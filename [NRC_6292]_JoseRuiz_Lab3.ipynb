{
 "cells": [
  {
   "cell_type": "markdown",
   "id": "8b6f603c",
   "metadata": {},
   "source": [
    "<center><h1>Técnicas de Inteligencia Artificial</header1></center>"
   ]
  },
  {
   "cell_type": "markdown",
   "id": "3eb1aaac",
   "metadata": {},
   "source": [
    "Presentado por: José Andres Ruiz Sarauz  <br>\n",
    "Fecha: 18/07/2022"
   ]
  },
  {
   "cell_type": "markdown",
   "id": "1dec299b",
   "metadata": {
    "ExecuteTime": {
     "end_time": "2022-03-14T15:14:04.930713Z",
     "start_time": "2022-03-14T15:14:04.921682Z"
    }
   },
   "source": [
    "# Importación de librerias necesarias"
   ]
  },
  {
   "cell_type": "code",
   "execution_count": 69,
   "id": "6d1abf7a",
   "metadata": {
    "ExecuteTime": {
     "end_time": "2022-03-14T15:14:46.228059Z",
     "start_time": "2022-03-14T15:14:46.223108Z"
    }
   },
   "outputs": [],
   "source": [
    "#Para esta actividad se importarán las siguientes librerías:\n",
    "import pandas as pd\n",
    "import numpy as np\n",
    "\n",
    "#Importación de la libreria sklearn\n",
    "from sklearn.model_selection import train_test_split\n",
    "from sklearn import metrics\n",
    "\n",
    "#Se realiza la importación de la libreria statsmodels\n",
    "import statsmodels.api as smi\n",
    "\n",
    "#Importación de la libreria para la regresión lineal\n",
    "from sklearn.linear_model import LinearRegression \n",
    "\n",
    "#Importación de la libreria para la parte grafica\n",
    "import matplotlib.pyplot as plt"
   ]
  },
  {
   "cell_type": "markdown",
   "id": "6a44b924",
   "metadata": {},
   "source": [
    "## Cargar el Dataset"
   ]
  },
  {
   "cell_type": "code",
   "execution_count": 49,
   "id": "3541e808",
   "metadata": {},
   "outputs": [
    {
     "data": {
      "text/html": [
       "<div>\n",
       "<style scoped>\n",
       "    .dataframe tbody tr th:only-of-type {\n",
       "        vertical-align: middle;\n",
       "    }\n",
       "\n",
       "    .dataframe tbody tr th {\n",
       "        vertical-align: top;\n",
       "    }\n",
       "\n",
       "    .dataframe thead th {\n",
       "        text-align: right;\n",
       "    }\n",
       "</style>\n",
       "<table border=\"1\" class=\"dataframe\">\n",
       "  <thead>\n",
       "    <tr style=\"text-align: right;\">\n",
       "      <th></th>\n",
       "      <th>No</th>\n",
       "      <th>X1 transaction date</th>\n",
       "      <th>X2 house age</th>\n",
       "      <th>X3 distance to the nearest MRT station</th>\n",
       "      <th>X4 number of convenience stores</th>\n",
       "      <th>X5 latitude</th>\n",
       "      <th>X6 longitude</th>\n",
       "      <th>Y house price of unit area</th>\n",
       "    </tr>\n",
       "  </thead>\n",
       "  <tbody>\n",
       "    <tr>\n",
       "      <th>0</th>\n",
       "      <td>1</td>\n",
       "      <td>2012.917</td>\n",
       "      <td>32.0</td>\n",
       "      <td>84.87882</td>\n",
       "      <td>10</td>\n",
       "      <td>24.98298</td>\n",
       "      <td>121.54024</td>\n",
       "      <td>37.9</td>\n",
       "    </tr>\n",
       "    <tr>\n",
       "      <th>1</th>\n",
       "      <td>2</td>\n",
       "      <td>2012.917</td>\n",
       "      <td>19.5</td>\n",
       "      <td>306.59470</td>\n",
       "      <td>9</td>\n",
       "      <td>24.98034</td>\n",
       "      <td>121.53951</td>\n",
       "      <td>42.2</td>\n",
       "    </tr>\n",
       "    <tr>\n",
       "      <th>2</th>\n",
       "      <td>3</td>\n",
       "      <td>2013.583</td>\n",
       "      <td>13.3</td>\n",
       "      <td>561.98450</td>\n",
       "      <td>5</td>\n",
       "      <td>24.98746</td>\n",
       "      <td>121.54391</td>\n",
       "      <td>47.3</td>\n",
       "    </tr>\n",
       "    <tr>\n",
       "      <th>3</th>\n",
       "      <td>4</td>\n",
       "      <td>2013.500</td>\n",
       "      <td>13.3</td>\n",
       "      <td>561.98450</td>\n",
       "      <td>5</td>\n",
       "      <td>24.98746</td>\n",
       "      <td>121.54391</td>\n",
       "      <td>54.8</td>\n",
       "    </tr>\n",
       "    <tr>\n",
       "      <th>4</th>\n",
       "      <td>5</td>\n",
       "      <td>2012.833</td>\n",
       "      <td>5.0</td>\n",
       "      <td>390.56840</td>\n",
       "      <td>5</td>\n",
       "      <td>24.97937</td>\n",
       "      <td>121.54245</td>\n",
       "      <td>43.1</td>\n",
       "    </tr>\n",
       "  </tbody>\n",
       "</table>\n",
       "</div>"
      ],
      "text/plain": [
       "   No  X1 transaction date  X2 house age  \\\n",
       "0   1             2012.917          32.0   \n",
       "1   2             2012.917          19.5   \n",
       "2   3             2013.583          13.3   \n",
       "3   4             2013.500          13.3   \n",
       "4   5             2012.833           5.0   \n",
       "\n",
       "   X3 distance to the nearest MRT station  X4 number of convenience stores  \\\n",
       "0                                84.87882                               10   \n",
       "1                               306.59470                                9   \n",
       "2                               561.98450                                5   \n",
       "3                               561.98450                                5   \n",
       "4                               390.56840                                5   \n",
       "\n",
       "   X5 latitude  X6 longitude  Y house price of unit area  \n",
       "0     24.98298     121.54024                        37.9  \n",
       "1     24.98034     121.53951                        42.2  \n",
       "2     24.98746     121.54391                        47.3  \n",
       "3     24.98746     121.54391                        54.8  \n",
       "4     24.97937     121.54245                        43.1  "
      ]
     },
     "execution_count": 49,
     "metadata": {},
     "output_type": "execute_result"
    }
   ],
   "source": [
    "#Código para cargar Dataset\n",
    "\n",
    "#Se cargan los datos del dataset mediante la libreria pandas\n",
    "df = pd.read_csv(\"Real estate.csv\")\n",
    "\n",
    "#Se visualiza los datos\n",
    "df.head()"
   ]
  },
  {
   "cell_type": "markdown",
   "id": "93c30410",
   "metadata": {},
   "source": [
    "## Descripción de la fuente del Dataset"
   ]
  },
  {
   "cell_type": "markdown",
   "id": "db6174bc",
   "metadata": {},
   "source": [
    "Análisis de regresión, regresión múltiple, regresión lineal, predicción.\n",
    "\n",
    "Link del dataset: https://www.kaggle.com/datasets/quantbruce/real-estate-price-prediction"
   ]
  },
  {
   "cell_type": "code",
   "execution_count": 50,
   "id": "7c219863",
   "metadata": {},
   "outputs": [
    {
     "data": {
      "text/html": [
       "<div>\n",
       "<style scoped>\n",
       "    .dataframe tbody tr th:only-of-type {\n",
       "        vertical-align: middle;\n",
       "    }\n",
       "\n",
       "    .dataframe tbody tr th {\n",
       "        vertical-align: top;\n",
       "    }\n",
       "\n",
       "    .dataframe thead th {\n",
       "        text-align: right;\n",
       "    }\n",
       "</style>\n",
       "<table border=\"1\" class=\"dataframe\">\n",
       "  <thead>\n",
       "    <tr style=\"text-align: right;\">\n",
       "      <th></th>\n",
       "      <th>No</th>\n",
       "      <th>X1 transaction date</th>\n",
       "      <th>X2 house age</th>\n",
       "      <th>X3 distance to the nearest MRT station</th>\n",
       "      <th>X4 number of convenience stores</th>\n",
       "      <th>X5 latitude</th>\n",
       "      <th>X6 longitude</th>\n",
       "      <th>Y house price of unit area</th>\n",
       "    </tr>\n",
       "  </thead>\n",
       "  <tbody>\n",
       "    <tr>\n",
       "      <th>count</th>\n",
       "      <td>414.000000</td>\n",
       "      <td>414.000000</td>\n",
       "      <td>414.000000</td>\n",
       "      <td>414.000000</td>\n",
       "      <td>414.000000</td>\n",
       "      <td>414.000000</td>\n",
       "      <td>414.000000</td>\n",
       "      <td>414.000000</td>\n",
       "    </tr>\n",
       "    <tr>\n",
       "      <th>mean</th>\n",
       "      <td>207.500000</td>\n",
       "      <td>2013.148971</td>\n",
       "      <td>17.712560</td>\n",
       "      <td>1083.885689</td>\n",
       "      <td>4.094203</td>\n",
       "      <td>24.969030</td>\n",
       "      <td>121.533361</td>\n",
       "      <td>37.980193</td>\n",
       "    </tr>\n",
       "    <tr>\n",
       "      <th>std</th>\n",
       "      <td>119.655756</td>\n",
       "      <td>0.281967</td>\n",
       "      <td>11.392485</td>\n",
       "      <td>1262.109595</td>\n",
       "      <td>2.945562</td>\n",
       "      <td>0.012410</td>\n",
       "      <td>0.015347</td>\n",
       "      <td>13.606488</td>\n",
       "    </tr>\n",
       "    <tr>\n",
       "      <th>min</th>\n",
       "      <td>1.000000</td>\n",
       "      <td>2012.667000</td>\n",
       "      <td>0.000000</td>\n",
       "      <td>23.382840</td>\n",
       "      <td>0.000000</td>\n",
       "      <td>24.932070</td>\n",
       "      <td>121.473530</td>\n",
       "      <td>7.600000</td>\n",
       "    </tr>\n",
       "    <tr>\n",
       "      <th>25%</th>\n",
       "      <td>104.250000</td>\n",
       "      <td>2012.917000</td>\n",
       "      <td>9.025000</td>\n",
       "      <td>289.324800</td>\n",
       "      <td>1.000000</td>\n",
       "      <td>24.963000</td>\n",
       "      <td>121.528085</td>\n",
       "      <td>27.700000</td>\n",
       "    </tr>\n",
       "    <tr>\n",
       "      <th>50%</th>\n",
       "      <td>207.500000</td>\n",
       "      <td>2013.167000</td>\n",
       "      <td>16.100000</td>\n",
       "      <td>492.231300</td>\n",
       "      <td>4.000000</td>\n",
       "      <td>24.971100</td>\n",
       "      <td>121.538630</td>\n",
       "      <td>38.450000</td>\n",
       "    </tr>\n",
       "    <tr>\n",
       "      <th>75%</th>\n",
       "      <td>310.750000</td>\n",
       "      <td>2013.417000</td>\n",
       "      <td>28.150000</td>\n",
       "      <td>1454.279000</td>\n",
       "      <td>6.000000</td>\n",
       "      <td>24.977455</td>\n",
       "      <td>121.543305</td>\n",
       "      <td>46.600000</td>\n",
       "    </tr>\n",
       "    <tr>\n",
       "      <th>max</th>\n",
       "      <td>414.000000</td>\n",
       "      <td>2013.583000</td>\n",
       "      <td>43.800000</td>\n",
       "      <td>6488.021000</td>\n",
       "      <td>10.000000</td>\n",
       "      <td>25.014590</td>\n",
       "      <td>121.566270</td>\n",
       "      <td>117.500000</td>\n",
       "    </tr>\n",
       "  </tbody>\n",
       "</table>\n",
       "</div>"
      ],
      "text/plain": [
       "               No  X1 transaction date  X2 house age  \\\n",
       "count  414.000000           414.000000    414.000000   \n",
       "mean   207.500000          2013.148971     17.712560   \n",
       "std    119.655756             0.281967     11.392485   \n",
       "min      1.000000          2012.667000      0.000000   \n",
       "25%    104.250000          2012.917000      9.025000   \n",
       "50%    207.500000          2013.167000     16.100000   \n",
       "75%    310.750000          2013.417000     28.150000   \n",
       "max    414.000000          2013.583000     43.800000   \n",
       "\n",
       "       X3 distance to the nearest MRT station  \\\n",
       "count                              414.000000   \n",
       "mean                              1083.885689   \n",
       "std                               1262.109595   \n",
       "min                                 23.382840   \n",
       "25%                                289.324800   \n",
       "50%                                492.231300   \n",
       "75%                               1454.279000   \n",
       "max                               6488.021000   \n",
       "\n",
       "       X4 number of convenience stores  X5 latitude  X6 longitude  \\\n",
       "count                       414.000000   414.000000    414.000000   \n",
       "mean                          4.094203    24.969030    121.533361   \n",
       "std                           2.945562     0.012410      0.015347   \n",
       "min                           0.000000    24.932070    121.473530   \n",
       "25%                           1.000000    24.963000    121.528085   \n",
       "50%                           4.000000    24.971100    121.538630   \n",
       "75%                           6.000000    24.977455    121.543305   \n",
       "max                          10.000000    25.014590    121.566270   \n",
       "\n",
       "       Y house price of unit area  \n",
       "count                  414.000000  \n",
       "mean                    37.980193  \n",
       "std                     13.606488  \n",
       "min                      7.600000  \n",
       "25%                     27.700000  \n",
       "50%                     38.450000  \n",
       "75%                     46.600000  \n",
       "max                    117.500000  "
      ]
     },
     "execution_count": 50,
     "metadata": {},
     "output_type": "execute_result"
    }
   ],
   "source": [
    "#La descripción del dataset\n",
    "df.describe()"
   ]
  },
  {
   "cell_type": "markdown",
   "id": "7f868eab",
   "metadata": {},
   "source": [
    "## Explique el problema a resolver. \n",
    "\n",
    "En este conjunto de datos se visualiza el costo de las medidas de bienes y raices que se debe llevar un control de precios por los terrenos que se tiene como variable dependiente \"y\" el indicador del precio de la unidad de superficie  y algunas variables explicativas las \"x\" correspondientes a los otros datos obtenidos. Por lo tanto, se pretende solucionar el problema predicciendo los precios de las inmobiliarias sin que se exceda los costos de venta. El presente trabajo tiene por objetivo minimizar el error de pronóstico en la predicción de precios-venta en cada uno de los tipos de inmueble y operaciones inmobiliarias existentes en el mercado."
   ]
  },
  {
   "cell_type": "markdown",
   "id": "a0b719c1",
   "metadata": {},
   "source": [
    "## Caracterización del Dataset\n",
    "\n",
    "Realice una descripción de los datos con:\n",
    "\n",
    ">- Número de instancias en total.\n",
    ">- Número de atributos de entrada, su significado y tipo.\n",
    ">- Estadísticas de la variable objetivo.\n",
    ">- Estadísticas los atributos en relación con la variable objetivo.\n"
   ]
  },
  {
   "cell_type": "code",
   "execution_count": 51,
   "id": "2f0ed5d2",
   "metadata": {},
   "outputs": [
    {
     "data": {
      "text/plain": [
       "No                                        414\n",
       "X1 transaction date                       414\n",
       "X2 house age                              414\n",
       "X3 distance to the nearest MRT station    414\n",
       "X4 number of convenience stores           414\n",
       "X5 latitude                               414\n",
       "X6 longitude                              414\n",
       "Y house price of unit area                414\n",
       "dtype: int64"
      ]
     },
     "execution_count": 51,
     "metadata": {},
     "output_type": "execute_result"
    }
   ],
   "source": [
    "#Código que responde a la descripción anterior\n",
    "\n",
    "#conteo registros del dataset\n",
    "df.count()"
   ]
  },
  {
   "cell_type": "code",
   "execution_count": 52,
   "id": "e914ecfe",
   "metadata": {},
   "outputs": [
    {
     "name": "stdout",
     "output_type": "stream",
     "text": [
      "<class 'pandas.core.frame.DataFrame'>\n",
      "RangeIndex: 414 entries, 0 to 413\n",
      "Data columns (total 7 columns):\n",
      " #   Column                                  Non-Null Count  Dtype  \n",
      "---  ------                                  --------------  -----  \n",
      " 0   No                                      414 non-null    int64  \n",
      " 1   X1 transaction date                     414 non-null    float64\n",
      " 2   X2 house age                            414 non-null    float64\n",
      " 3   X3 distance to the nearest MRT station  414 non-null    float64\n",
      " 4   X4 number of convenience stores         414 non-null    int64  \n",
      " 5   X5 latitude                             414 non-null    float64\n",
      " 6   X6 longitude                            414 non-null    float64\n",
      "dtypes: float64(5), int64(2)\n",
      "memory usage: 22.8 KB\n"
     ]
    }
   ],
   "source": [
    "#muestra la información de los 6 atributos de entrada.\n",
    "df.drop('Y house price of unit area', axis=1).info()"
   ]
  },
  {
   "cell_type": "code",
   "execution_count": 55,
   "id": "8e743d40",
   "metadata": {},
   "outputs": [
    {
     "data": {
      "text/plain": [
       "<AxesSubplot:>"
      ]
     },
     "execution_count": 55,
     "metadata": {},
     "output_type": "execute_result"
    },
    {
     "data": {
      "image/png": "[encoded data removed]",
      "text/plain": [
       "<Figure size 432x288 with 1 Axes>"
      ]
     },
     "metadata": {
      "needs_background": "light"
     },
     "output_type": "display_data"
    }
   ],
   "source": [
    "%matplotlib inline\n",
    "#Creación del gráfico de barras como la variable objetivo (tipo) continua\n",
    "df['Y house price of unit area'].hist()"
   ]
  },
  {
   "cell_type": "markdown",
   "id": "a7ab5e48",
   "metadata": {},
   "source": [
    "En un par de párrafos haga un resumen de los principales hallazagos encontrados:  \n",
    "Con el dataset que se trabaja se muestra la cantidad de datos de los pacientes de los medicos que han sido atendidos. Se ha transformado los datos categoricos y obteniendo el resultado de la cifra de las regiones que son los pacientes, la cantidad que consumen tabaco entre otros datos."
   ]
  },
  {
   "cell_type": "markdown",
   "id": "0a19e6af",
   "metadata": {},
   "source": [
    "## Preprocesamiento del dataset. Transformaciones previas necesarias para la modelación"
   ]
  },
  {
   "cell_type": "code",
   "execution_count": 56,
   "id": "5a24dac4",
   "metadata": {},
   "outputs": [],
   "source": [
    "#Transformación de las caracteristicas (mire el apartado Feature engineering del aula virtual)\n",
    "\n",
    "# Variable objetivo y variables de entrada\n",
    "VariableObjetivo=['Y house price of unit area']\n",
    "VariablesEntrada=['X1 transaction date', 'X2 house age', 'X3 distance to the nearest MRT station', 'X4 number of convenience stores', 'X5 latitude', 'X6 longitude']"
   ]
  },
  {
   "cell_type": "code",
   "execution_count": 57,
   "id": "9531f737",
   "metadata": {},
   "outputs": [],
   "source": [
    "X=df[VariablesEntrada].values\n",
    "y=df[VariableObjetivo].values"
   ]
  },
  {
   "cell_type": "code",
   "execution_count": 58,
   "id": "44bb1992",
   "metadata": {},
   "outputs": [],
   "source": [
    "### Estandarización de la data ###\n",
    "from sklearn.preprocessing import StandardScaler\n",
    "VariablesEntradaScaler=StandardScaler()\n",
    "VariableObjetivoScaler=StandardScaler()"
   ]
  },
  {
   "cell_type": "code",
   "execution_count": 61,
   "id": "2482d883",
   "metadata": {},
   "outputs": [],
   "source": [
    "#Almacenamiento del objeto de ajuste para referencia posterior\n",
    "VariablesEntradaFit=VariablesEntradaScaler.fit(X)\n",
    "VariableObjetivoFit=VariableObjetivoScaler.fit(y)"
   ]
  },
  {
   "cell_type": "code",
   "execution_count": 62,
   "id": "11c364a3",
   "metadata": {},
   "outputs": [],
   "source": [
    "#Generación de los valores estandarizados de X e y\n",
    "X=VariablesEntradaFit.transform(X)\n",
    "y=VariableObjetivoFit.transform(y)"
   ]
  },
  {
   "cell_type": "markdown",
   "id": "49815fde",
   "metadata": {
    "ExecuteTime": {
     "end_time": "2022-03-14T15:56:34.366469Z",
     "start_time": "2022-03-14T15:56:34.358471Z"
    }
   },
   "source": [
    "## División del dataset en datos de entrenamiento y datos de test "
   ]
  },
  {
   "cell_type": "code",
   "execution_count": 70,
   "id": "cbfa045e",
   "metadata": {},
   "outputs": [],
   "source": [
    "#Código que realice la división en entrenamiento y test, de acuerdo con la estretgia de evaluación planeada. Describa cuál es.\n",
    "X_train, X_test, y_train, y_test = train_test_split(X, y, test_size=0.3, random_state=1)"
   ]
  },
  {
   "cell_type": "code",
   "execution_count": 71,
   "id": "34fac7e5",
   "metadata": {},
   "outputs": [
    {
     "name": "stdout",
     "output_type": "stream",
     "text": [
      "[[-0.78588359]\n",
      " [ 1.20822315]\n",
      " [-1.17587495]\n",
      " [-1.94114101]\n",
      " [ 0.54597368]\n",
      " [-1.10229167]\n",
      " [-1.1905916 ]\n",
      " [-0.42532555]\n",
      " [-0.04269252]\n",
      " [-1.13172498]\n",
      " [-1.51435801]\n",
      " [-0.08684248]\n",
      " [-1.09493335]\n",
      " [-0.07948416]\n",
      " [ 1.34803137]\n",
      " [-1.25681655]\n",
      " [ 0.40616546]\n",
      " [ 0.17069898]\n",
      " [-0.75645028]\n",
      " [ 0.30314887]\n",
      " [ 0.63427361]\n",
      " [-1.1905916 ]\n",
      " [ 0.00881577]\n",
      " [ 1.15671486]\n",
      " [ 1.40689799]\n",
      " [-0.83739188]\n",
      " [-0.43268387]\n",
      " [ 1.38482301]\n",
      " [ 0.37673215]\n",
      " [-1.5658663 ]\n",
      " [-0.33702562]\n",
      " [-0.278159  ]\n",
      " [ 0.11919069]\n",
      " [ 1.06841493]\n",
      " [ 0.67106525]\n",
      " [-1.83812442]\n",
      " [-0.03533419]\n",
      " [-0.40325056]\n",
      " [ 0.31786553]\n",
      " [-1.28624986]\n",
      " [ 0.17069898]\n",
      " [-1.61001627]\n",
      " [ 1.48048127]\n",
      " [-0.33702562]\n",
      " [-0.52834213]\n",
      " [-1.19794993]\n",
      " [-1.25681655]\n",
      " [ 0.33258218]\n",
      " [ 0.00881577]\n",
      " [ 0.11919069]\n",
      " [-1.42605808]\n",
      " [ 0.46503208]\n",
      " [ 0.12654901]\n",
      " [-1.66152456]\n",
      " [ 0.94332336]\n",
      " [-0.12363412]\n",
      " [ 1.04633995]\n",
      " [-0.01325921]\n",
      " [-0.84475021]\n",
      " [ 0.33258218]\n",
      " [-1.85284108]\n",
      " [-0.37381725]\n",
      " [-0.63135872]\n",
      " [-1.38190812]\n",
      " [ 0.33994051]\n",
      " [-0.41060889]\n",
      " [ 0.34729884]\n",
      " [ 0.31786553]\n",
      " [-1.62473292]\n",
      " [ 0.43559877]\n",
      " [ 0.47974873]\n",
      " [-1.65416623]\n",
      " [-0.60192541]\n",
      " [-0.99191676]\n",
      " [ 0.88445674]\n",
      " [-0.05740917]\n",
      " [-0.5209838 ]\n",
      " [-0.07212583]\n",
      " [-0.3591006 ]\n",
      " [ 1.59085618]\n",
      " [ 0.20749062]\n",
      " [ 1.04633995]\n",
      " [ 0.67106525]\n",
      " [-0.04269252]\n",
      " [ 1.01690664]\n",
      " [ 1.48048127]\n",
      " [ 0.84766511]\n",
      " [-0.54305879]\n",
      " [ 0.73729019]\n",
      " [-1.45549139]\n",
      " [-0.75645028]\n",
      " [ 2.33404725]\n",
      " [ 2.1868807 ]\n",
      " [-0.83739188]\n",
      " [ 0.72993187]\n",
      " [ 0.3105072 ]\n",
      " [-1.04342505]\n",
      " [ 0.18541563]\n",
      " [ 1.85575597]\n",
      " [ 1.26708977]\n",
      " [ 0.63427361]\n",
      " [ 0.6048403 ]\n",
      " [-0.99927509]\n",
      " [-1.21266659]\n",
      " [ 0.37673215]\n",
      " [ 0.42824044]\n",
      " [ 1.25237312]\n",
      " [-0.69022534]\n",
      " [-0.21193405]\n",
      " [ 1.20822315]\n",
      " [ 2.94478843]\n",
      " [ 1.47312294]\n",
      " [ 0.59748197]\n",
      " [ 5.85132778]\n",
      " [-0.90361683]\n",
      " [ 0.74464852]\n",
      " [ 1.12728155]\n",
      " [ 0.31786553]\n",
      " [-0.32230896]\n",
      " [-0.93305014]\n",
      " [ 0.33258218]\n",
      " [-1.3230415 ]\n",
      " [ 0.19277396]\n",
      " [-0.63871704]\n",
      " [-0.3591006 ]]\n"
     ]
    }
   ],
   "source": [
    "#Impresion de y de prueba\n",
    "print(y_test)"
   ]
  },
  {
   "cell_type": "code",
   "execution_count": 72,
   "id": "167d6ece",
   "metadata": {},
   "outputs": [
    {
     "data": {
      "text/plain": [
       "(125, 6)"
      ]
     },
     "execution_count": 72,
     "metadata": {},
     "output_type": "execute_result"
    }
   ],
   "source": [
    "#Impresión de los datos\n",
    "X_test.shape"
   ]
  },
  {
   "cell_type": "markdown",
   "id": "6319adad",
   "metadata": {},
   "source": [
    "## Regresión Lineal"
   ]
  },
  {
   "cell_type": "code",
   "execution_count": 78,
   "id": "d5d2b2c6",
   "metadata": {},
   "outputs": [
    {
     "data": {
      "text/plain": [
       "LinearRegression()"
      ]
     },
     "execution_count": 78,
     "metadata": {},
     "output_type": "execute_result"
    }
   ],
   "source": [
    "#Código del modelo\n",
    "#Adaptación del modelo por un fit a x_train y y_train\n",
    "lr = LinearRegression()\n",
    "lr.fit(X_train, y_train)"
   ]
  },
  {
   "cell_type": "code",
   "execution_count": 74,
   "id": "33f5be2a",
   "metadata": {
    "ExecuteTime": {
     "end_time": "2022-04-25T07:21:39.020596Z",
     "start_time": "2022-04-25T07:21:39.005596Z"
    }
   },
   "outputs": [],
   "source": [
    "#Entrenamiento\n",
    "y_pred=lr.predict(X_test)"
   ]
  },
  {
   "cell_type": "code",
   "execution_count": 77,
   "id": "a2e675b3",
   "metadata": {},
   "outputs": [
    {
     "data": {
      "text/plain": [
       "0.5418646463779299"
      ]
     },
     "execution_count": 77,
     "metadata": {},
     "output_type": "execute_result"
    }
   ],
   "source": [
    "#Test\n",
    "\n",
    "#Predicción del modelo mediante un test\n",
    "from sklearn.metrics import r2_score\n",
    "r2_score(y_test,y_pred)"
   ]
  },
  {
   "cell_type": "markdown",
   "id": "9c2239f5",
   "metadata": {},
   "source": [
    "## Evaluación del Modelo"
   ]
  },
  {
   "cell_type": "markdown",
   "id": "ad219a0c",
   "metadata": {},
   "source": [
    "Construya un o dos párrafos con los principales hallazgos. Cómo está funcionando el modelo? Calidad en los resultados de predicción. "
   ]
  },
  {
   "cell_type": "code",
   "execution_count": 76,
   "id": "28b14a2f",
   "metadata": {},
   "outputs": [
    {
     "data": {
      "text/plain": [
       "<matplotlib.collections.PathCollection at 0x2943ba146a0>"
      ]
     },
     "execution_count": 76,
     "metadata": {},
     "output_type": "execute_result"
    },
    {
     "data": {
      "image/png": "[encoded data removed]",
      "text/plain": [
       "<Figure size 432x288 with 1 Axes>"
      ]
     },
     "metadata": {
      "needs_background": "light"
     },
     "output_type": "display_data"
    }
   ],
   "source": [
    "#Gráfica del resultado obtenido del modelo\n",
    "plt.scatter(y_test,y_pred)"
   ]
  },
  {
   "cell_type": "code",
   "execution_count": null,
   "id": "dd910772",
   "metadata": {},
   "outputs": [],
   "source": []
  }
 ],
 "metadata": {
  "kernelspec": {
   "display_name": "Python 3 (ipykernel)",
   "language": "python",
   "name": "python3"
  },
  "language_info": {
   "codemirror_mode": {
    "name": "ipython",
    "version": 3
   },
   "file_extension": ".py",
   "mimetype": "text/x-python",
   "name": "python",
   "nbconvert_exporter": "python",
   "pygments_lexer": "ipython3",
   "version": "3.9.12"
  },
  "toc": {
   "base_numbering": 1,
   "nav_menu": {},
   "number_sections": true,
   "sideBar": true,
   "skip_h1_title": true,
   "title_cell": "Tabla de Contenido",
   "title_sidebar": "Contenido",
   "toc_cell": false,
   "toc_position": {
    "height": "calc(100% - 180px)",
    "left": "10px",
    "top": "150px",
    "width": "263.591px"
   },
   "toc_section_display": true,
   "toc_window_display": true
  }
 },
 "nbformat": 4,
 "nbformat_minor": 5
}
